{
 "cells": [
  {
   "cell_type": "code",
   "execution_count": 1,
   "metadata": {},
   "outputs": [],
   "source": [
    "# Dependencies: Import Splinter and BeautifulSoup\n",
    "import time\n",
    "import pandas as pd\n",
    "from splinter import Browser\n",
    "from bs4 import BeautifulSoup as bs\n",
    "from webdriver_manager.chrome import ChromeDriverManager"
   ]
  },
  {
   "cell_type": "code",
   "execution_count": 2,
   "metadata": {},
   "outputs": [
    {
     "name": "stderr",
     "output_type": "stream",
     "text": [
      "\n",
      "\n",
      "====== WebDriver manager ======\n",
      "Current google-chrome version is 90.0.4430\n",
      "Get LATEST driver version for 90.0.4430\n",
      "Driver [C:\\Users\\doug\\.wdm\\drivers\\chromedriver\\win32\\90.0.4430.24\\chromedriver.exe] found in cache\n"
     ]
    }
   ],
   "source": [
    "# Set the executable path and initialize the chrome browser in splinter\n",
    "executable_path = {'executable_path': ChromeDriverManager().install()}\n",
    "browser = Browser('chrome', **executable_path, headless=False)\n",
    "#browser"
   ]
  },
  {
   "cell_type": "code",
   "execution_count": 3,
   "metadata": {},
   "outputs": [],
   "source": [
    "# Open the Nasa Mars Webpage (must be open to code)\n",
    "url = 'https://mars.nasa.gov/news/'\n",
    "browser.visit(url)\n",
    "\n",
    "# HTML object\n",
    "html = browser.html\n",
    "\n",
    "# Parse HTML with Beautiful Soup\n",
    "soup = bs(html, 'html.parser')"
   ]
  },
  {
   "cell_type": "markdown",
   "metadata": {},
   "source": [
    "## NASA Mars News"
   ]
  },
  {
   "cell_type": "code",
   "execution_count": 4,
   "metadata": {},
   "outputs": [
    {
     "name": "stdout",
     "output_type": "stream",
     "text": [
      "Mars Now\n",
      "--------------------------------------------------------------------\n",
      "A NASA team has found that organic, or carbon-containing, salts are likely present on Mars, with implications for the Red Planet's past habitability.\n"
     ]
    }
   ],
   "source": [
    "# Retrieve the latest news title and paragraph \n",
    "# Use 0 bc retrieval is a list and starts at 0, not one\n",
    "news_t = soup.find_all('div', class_='content_title')[0].text\n",
    "news_p = soup.find_all('div', class_='article_teaser_body')[0].text\n",
    "\n",
    "print(news_t)\n",
    "print(\"--------------------------------------------------------------------\")\n",
    "print(news_p)"
   ]
  },
  {
   "cell_type": "markdown",
   "metadata": {},
   "source": [
    "## JPL Mars Space Images - Featured Image"
   ]
  },
  {
   "cell_type": "code",
   "execution_count": 5,
   "metadata": {},
   "outputs": [],
   "source": [
    "# Mars Image to be scraped\n",
    "nasa_url = 'https://www.jpl.nasa.gov'\n",
    "images_url = 'https://www.jpl.nasa.gov/spaceimages/?search=&category=Mars'\n",
    "browser.visit(images_url)\n",
    "time.sleep(1)"
   ]
  },
  {
   "cell_type": "code",
   "execution_count": 6,
   "metadata": {},
   "outputs": [
    {
     "name": "stdout",
     "output_type": "stream",
     "text": [
      "featured_image_url = https://www.jpl.nasa.gov/_nuxt/img/logo-tribrand-color.8f95c3b.svg\n"
     ]
    }
   ],
   "source": [
    "#HTML object\n",
    "html_i = browser.html \n",
    "\n",
    "#Parse HTML with Beautiful Soup\n",
    "soup_i = bs(html_i, 'html.parser')\n",
    "\n",
    "# Retrieve featured image url \n",
    "img_path = soup_i.find('img', class_='')['src']\n",
    "featured_img_url = nasa_url + img_path\n",
    "print(f'featured_image_url = {featured_img_url}')"
   ]
  },
  {
   "cell_type": "markdown",
   "metadata": {},
   "source": [
    "### Mars Facts"
   ]
  },
  {
   "cell_type": "code",
   "execution_count": 7,
   "metadata": {},
   "outputs": [],
   "source": [
    "#Visit Mars facts page and use Pandas to scrape the table\n",
    "facts_url = 'https://space-facts.com/mars/'\n",
    "browser.visit(facts_url)\n",
    "time.sleep(1)"
   ]
  },
  {
   "cell_type": "code",
   "execution_count": 8,
   "metadata": {},
   "outputs": [
    {
     "data": {
      "text/html": [
       "<div>\n",
       "<style scoped>\n",
       "    .dataframe tbody tr th:only-of-type {\n",
       "        vertical-align: middle;\n",
       "    }\n",
       "\n",
       "    .dataframe tbody tr th {\n",
       "        vertical-align: top;\n",
       "    }\n",
       "\n",
       "    .dataframe thead th {\n",
       "        text-align: right;\n",
       "    }\n",
       "</style>\n",
       "<table border=\"1\" class=\"dataframe\">\n",
       "  <thead>\n",
       "    <tr style=\"text-align: right;\">\n",
       "      <th></th>\n",
       "      <th>Description</th>\n",
       "      <th>Value</th>\n",
       "    </tr>\n",
       "  </thead>\n",
       "  <tbody>\n",
       "    <tr>\n",
       "      <th>0</th>\n",
       "      <td>Equatorial Diameter:</td>\n",
       "      <td>6,792 km</td>\n",
       "    </tr>\n",
       "    <tr>\n",
       "      <th>1</th>\n",
       "      <td>Polar Diameter:</td>\n",
       "      <td>6,752 km</td>\n",
       "    </tr>\n",
       "    <tr>\n",
       "      <th>2</th>\n",
       "      <td>Mass:</td>\n",
       "      <td>6.39 × 10^23 kg (0.11 Earths)</td>\n",
       "    </tr>\n",
       "    <tr>\n",
       "      <th>3</th>\n",
       "      <td>Moons:</td>\n",
       "      <td>2 (Phobos &amp; Deimos)</td>\n",
       "    </tr>\n",
       "    <tr>\n",
       "      <th>4</th>\n",
       "      <td>Orbit Distance:</td>\n",
       "      <td>227,943,824 km (1.38 AU)</td>\n",
       "    </tr>\n",
       "    <tr>\n",
       "      <th>5</th>\n",
       "      <td>Orbit Period:</td>\n",
       "      <td>687 days (1.9 years)</td>\n",
       "    </tr>\n",
       "    <tr>\n",
       "      <th>6</th>\n",
       "      <td>Surface Temperature:</td>\n",
       "      <td>-87 to -5 °C</td>\n",
       "    </tr>\n",
       "    <tr>\n",
       "      <th>7</th>\n",
       "      <td>First Record:</td>\n",
       "      <td>2nd millennium BC</td>\n",
       "    </tr>\n",
       "    <tr>\n",
       "      <th>8</th>\n",
       "      <td>Recorded By:</td>\n",
       "      <td>Egyptian astronomers</td>\n",
       "    </tr>\n",
       "  </tbody>\n",
       "</table>\n",
       "</div>"
      ],
      "text/plain": [
       "            Description                          Value\n",
       "0  Equatorial Diameter:                       6,792 km\n",
       "1       Polar Diameter:                       6,752 km\n",
       "2                 Mass:  6.39 × 10^23 kg (0.11 Earths)\n",
       "3                Moons:            2 (Phobos & Deimos)\n",
       "4       Orbit Distance:       227,943,824 km (1.38 AU)\n",
       "5         Orbit Period:           687 days (1.9 years)\n",
       "6  Surface Temperature:                   -87 to -5 °C\n",
       "7         First Record:              2nd millennium BC\n",
       "8          Recorded By:           Egyptian astronomers"
      ]
     },
     "execution_count": 8,
     "metadata": {},
     "output_type": "execute_result"
    }
   ],
   "source": [
    "#HTML object\n",
    "mars_facts = browser.html\n",
    "\n",
    "#Parse HTML with Beautiful Soup\n",
    "soup_f = bs(mars_facts, 'html.parser')\n",
    "\n",
    "#ow-same-origin allow-scripts allow-top-navigation-by-user-activation\" width=\"300\" height=\"600\" frameborder=\"0\" src=\"https://googleads.g.doubleclick.net/pagead/ads?client=ca-pub-4251889121233823&amp;output=html&amp;h=600&amp;slotname=3223531810&amp;adk=2713548534&amp;adf=4114466516&amp;pi=t.ma~as.3223531810&amp;w=300&amp;fwrn=4&amp;fwrnh=100&amp;lmt=1621618762&amp;rafmt=4&amp;psa=0&amp;format=300x600&amp;url=https%3A%2F%2Fspace-facts.com%2Fmars%2F&amp;flash=0&amp;fwr=0&amp;fwrattr=true&amp;rpe=1&amp;resp_fmts=4&amp;wgl=1&amp;uach=WyJXaW5kb3dzIiwiMTAuMCIsIng4NiIsIiIsIjkwLjAuNDQzMC4yMTIiLFtdXQ..&amp;dt=1621618761342&amp;bpp=2&amp;bdt=1546&amp;idt=772&amp;shv=r20210517&amp;cbv=%2Fr20190131&amp;ptt=9&amp;saldr=aa&amp;abxe=1&amp;prev_fmts=0x0%2C728x90&amp;nras=1&amp;correlator=6187164947060&amp;frm=20&amp;pv=1&amp;ga_vid=2046208734.1621618761&amp;ga_sid=1621618762&amp;ga_hid=1713373489&amp;ga_fc=0&amp;u_tz=-360&amp;u_his=2&amp;u_java=0&amp;u_h=720&amp;u_w=2560&amp;u_ah=680&amp;u_aw=2560&amp;u_cd=24&amp;u_nplug=3&amp;u_nmime=4&amp;adx=887&amp;ady=1433&amp;biw=1293&amp;bih=569&amp;scr_x=0&amp;scr_y=0&amp;eid=42530672&amp;oid=3&amp;pvsid=3897332435798804&amp;pem=15&amp;eae=0&amp;fc=1920&amp;brdim=912%2C4%2C912%2C4%2C2560%2C0%2C1325%2C688%2C1310%2C569&amp;vis=1&amp;rsz=%7C%7CeEbr%7C&amp;abl=CS&amp;pfx=0&amp;fu=128&amp;bc=31&amp;ifi=4&amp;uci=a!4&amp;btvi=1&amp;fsb=1&amp;xpc=fOSVQ9OOMn&amp;p=https%3A//space-facts.com&amp;dtd=782\" marginwidth=\"0\" marginheight=\"0\" vspace=\"0\" hspace=\"0\" allowtransparency=\"true\" scrolling=\"no\" allowfullscreen=\"true\" allow=\"conversion-measurement 'src'\" data-google-container-id=\"a!4\" data-google-query-id=\"CM-83tGo2_ACFT4trQYde3kIiA\" data-load-complete=\"true\"></iframe></ins></ins></ins> <script>(adsbygoogle = window.adsbygoogle || []).push({});</script></div></aside><aside id=\"recent-posts-2\" class=\"widget widget_recent_entries clearfix\"><div class=\"widget-header\"><h3 class=\"widget-title\">Recent Posts</h3></div><ul><li> <a href=\"https://space-facts.com/dr-james-odonoghues-space-animations/\">Dr James O’Donoghue’s Space Animations</a></li><li> <a href=\"https://space-facts.com/googles-planet-scale-mistake/\">Google’s Planet Scale Mistake</a></li><li> <a href=\"https://space-facts.com/the-ultimate-list-of-tv-shows-set-in-space-or-on-other-planets/\">The Ultimate List of TV Shows set in Space or on Other Planets</a></li><li> <a href=\"https://space-facts.com/jupiters-galilean-moons-profile-gifs/\">Jupiter’s Galilean Moons (Profile Gifs)</a></li><li> <a href=\"https://space-facts.com/planets-moons-star-wars/\">The Planets and Moons of Star Wars to Scale</a></li><li> <a href=\"https://space-facts.com/planet-orbits/\">Planet Orbits\n",
    "fact_table = soup_f.find('section', class_='sidebar widget-area clearfix')\n",
    "column1 = fact_table.find_all('td', class_='column-1')\n",
    "column2 = fact_table.find_all('td', class_='column-2')\n",
    "\n",
    "# Empty List to hold the scraped data\n",
    "descriptions = []\n",
    "values = []\n",
    "\n",
    "#  Note: row.text.strip(): Return a copy of the string with the leading and trailing characters removed\n",
    "for row in column1:\n",
    "    description = row.text.strip()\n",
    "    descriptions.append(description)\n",
    "    \n",
    "for row in column2:\n",
    "    value = row.text.strip()\n",
    "    values.append(value)\n",
    "\n",
    "# Convert scraped lists to a pandas DF \n",
    "mars_facts = pd.DataFrame({\n",
    "    \"Description\":descriptions,\n",
    "    \"Value\":values\n",
    "    })\n",
    "\n",
    "# Convert DF to html \n",
    "mars_facts_html = mars_facts.to_html(header=False, index=False)\n",
    "mars_facts"
   ]
  },
  {
   "cell_type": "markdown",
   "metadata": {},
   "source": [
    "###  Mars Hemispheres"
   ]
  },
  {
   "cell_type": "code",
   "execution_count": 17,
   "metadata": {},
   "outputs": [],
   "source": [
    "# Visit the USGS Astrogeology site \n",
    "mars_hemi_url = 'https://astrogeology.usgs.gov/search/results?q=hemisphere+enhanced&k1=target&v1=Mars'\n",
    "browser.visit(mars_hemi_url)\n",
    "time.sleep(1)"
   ]
  },
  {
   "cell_type": "code",
   "execution_count": null,
   "metadata": {},
   "outputs": [],
   "source": [
    "# Find the image url and title and title\n",
    "\n",
    "# HTML object\n",
    "hemi_html = browser.html\n",
    "#Parse HTML with Beautiful Soup\n",
    "soup_h = bs(hemi_html, 'html.parser')\n",
    "\n",
    "#Retreive all items\n",
    "items = soup_h.find_all('div', class_='item')\n",
    "\n",
    "# Create an empty list \n",
    "hemi_image_urls = []\n",
    "\n",
    "# store the main url\n",
    "hemi_url = 'https://astrogeology.usgs.gov'\n",
    "\n",
    "#loop through items \n",
    "for i in items:\n",
    "    #store title\n",
    "    title = i.find('h3').text\n",
    "    \n",
    "    # store the link to full image from thumbnail u\n",
    "    image_url = i.find('a', class_='itemLink product-item')['href']\n",
    "\n",
    "    # link for the full image website\n",
    "    browser.visit(hemi_url + image_url)\n",
    "    \n",
    "    # HTML object for individual hemisphere sites\n",
    "    image_url = browser.html    \n",
    "    \n",
    "    # Parse HTML with Beautiful Soup for each hemisphere\n",
    "    image_soup = bs(image_url, 'html.parser')\n",
    "    \n",
    "    # Full image path\n",
    "    hemisphere_img_path = image_soup.find('img', class_='wide-image')['src']\n",
    "    \n",
    "    # retrieve full image source\n",
    "    img_url = f'https://astrogeology.usgs.gov{hemisphere_img_path}'\n",
    "    \n",
    "    # append title and urls to list\n",
    "    hemi_image_urls.append({\n",
    "        \"title\": title,\n",
    "        \"image_url\": img_url\n",
    "    })\n",
    "hemi_image_urls"
   ]
  },
  {
   "cell_type": "code",
   "execution_count": null,
   "metadata": {},
   "outputs": [],
   "source": []
  },
  {
   "cell_type": "code",
   "execution_count": null,
   "metadata": {},
   "outputs": [],
   "source": []
  }
 ],
 "metadata": {
  "kernelspec": {
   "display_name": "Python 3",
   "language": "python",
   "name": "python3"
  },
  "language_info": {
   "codemirror_mode": {
    "name": "ipython",
    "version": 3
   },
   "file_extension": ".py",
   "mimetype": "text/x-python",
   "name": "python",
   "nbconvert_exporter": "python",
   "pygments_lexer": "ipython3",
   "version": "3.8.5"
  }
 },
 "nbformat": 4,
 "nbformat_minor": 4
}
