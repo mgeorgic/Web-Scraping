{
 "cells": [
  {
   "cell_type": "code",
   "execution_count": 1,
   "metadata": {},
   "outputs": [],
   "source": [
    "# Dependencies: Import Splinter and BeautifulSoup\n",
    "import time\n",
    "import pandas as pd\n",
    "from splinter import Browser\n",
    "from bs4 import BeautifulSoup as bs\n",
    "from webdriver_manager.chrome import ChromeDriverManager"
   ]
  },
  {
   "cell_type": "code",
   "execution_count": 2,
   "metadata": {},
   "outputs": [],
   "source": [
    "# Set the executable path and initialize the chrome browser in splinter\n",
    "def init_browser():\n",
    "    executable_path = {'executable_path': 'C:/Users/Doug/Desktop/chromedriver.exe'}\n",
    "    return Browser('chrome', **executable_path, headless=False)\n",
    "    #browser"
   ]
  },
  {
   "cell_type": "markdown",
   "metadata": {},
   "source": [
    "## NASA Mars News"
   ]
  },
  {
   "cell_type": "code",
   "execution_count": 3,
   "metadata": {},
   "outputs": [
    {
     "name": "stdout",
     "output_type": "stream",
     "text": [
      "Mars Now\n",
      "--------------------------------------------------------------------\n",
      "The science team is studying the clouds, which arrived earlier and formed higher than expected, to learn more about the Red Planet. \n"
     ]
    }
   ],
   "source": [
    "# Using python to scrape website\n",
    "browser = init_browser()\n",
    "mars_data = {}\n",
    "\n",
    "# Open the Nasa Mars Webpage (must be open to code)\n",
    "url = 'https://mars.nasa.gov/news'\n",
    "browser.visit(url)\n",
    "time.sleep(2)\n",
    "\n",
    "# HTML object\n",
    "html = browser.html\n",
    "    \n",
    "# Parse ('lxml') HTML with Beautiful Soup\n",
    "soup = bs(html, 'html.parser')\n",
    "\n",
    "# Retrieve the latest news title and paragraph \n",
    "# Use 0 bc retrieval is a list and starts at 0, not one\n",
    "news_t = soup.find_all('div', class_='content_title')[0].text\n",
    "news_p = soup.find_all('div', class_='article_teaser_body')[0].text\n",
    "    \n",
    "print(news_t)\n",
    "print(\"--------------------------------------------------------------------\")\n",
    "print(news_p)"
   ]
  },
  {
   "cell_type": "markdown",
   "metadata": {},
   "source": [
    "## JPL Mars Space Images - Featured Image"
   ]
  },
  {
   "cell_type": "code",
   "execution_count": 4,
   "metadata": {},
   "outputs": [],
   "source": [
    "# Mars Image to be scraped\n",
    "mars_image_url = 'https://data-class-jpl-space.s3.amazonaws.com/JPL_Space/index.html'\n",
    "browser.visit(mars_image_url)\n",
    "browser.find_by_text(' FULL IMAGE').click()"
   ]
  },
  {
   "cell_type": "code",
   "execution_count": 5,
   "metadata": {},
   "outputs": [
    {
     "name": "stdout",
     "output_type": "stream",
     "text": [
      "featured_image_url = https://www.jpl.nasa.govimage/featured/mars3.jpg\n"
     ]
    }
   ],
   "source": [
    "#HTML object\n",
    "image_html = browser.html\n",
    "\n",
    "#Parse HTML with Beautiful Soup\n",
    "image_soup = bs(image_html, 'html.parser')\n",
    "\n",
    "#find first Mars image url\n",
    "img_path = image_soup.find('img', class_='fancybox-image')['src']\n",
    "\n",
    "#combine url to get image path\n",
    "featured_image_url = f'https://www.jpl.nasa.gov{img_path}'\n",
    "\n",
    "print(f'featured_image_url = {featured_image_url}')"
   ]
  },
  {
   "cell_type": "markdown",
   "metadata": {},
   "source": [
    "### Mars Facts"
   ]
  },
  {
   "cell_type": "code",
   "execution_count": 6,
   "metadata": {},
   "outputs": [],
   "source": [
    "#Visit Mars facts page and use Pandas to scrape the table\n",
    "facts_url = 'https://space-facts.com/mars/'\n",
    "browser.visit(facts_url)\n",
    "time.sleep(1)"
   ]
  },
  {
   "cell_type": "code",
   "execution_count": 7,
   "metadata": {},
   "outputs": [
    {
     "data": {
      "text/html": [
       "<div>\n",
       "<style scoped>\n",
       "    .dataframe tbody tr th:only-of-type {\n",
       "        vertical-align: middle;\n",
       "    }\n",
       "\n",
       "    .dataframe tbody tr th {\n",
       "        vertical-align: top;\n",
       "    }\n",
       "\n",
       "    .dataframe thead th {\n",
       "        text-align: right;\n",
       "    }\n",
       "</style>\n",
       "<table border=\"1\" class=\"dataframe\">\n",
       "  <thead>\n",
       "    <tr style=\"text-align: right;\">\n",
       "      <th></th>\n",
       "      <th>Description</th>\n",
       "      <th>Value</th>\n",
       "    </tr>\n",
       "  </thead>\n",
       "  <tbody>\n",
       "    <tr>\n",
       "      <th>0</th>\n",
       "      <td>Equatorial Diameter:</td>\n",
       "      <td>6,792 km</td>\n",
       "    </tr>\n",
       "    <tr>\n",
       "      <th>1</th>\n",
       "      <td>Polar Diameter:</td>\n",
       "      <td>6,752 km</td>\n",
       "    </tr>\n",
       "    <tr>\n",
       "      <th>2</th>\n",
       "      <td>Mass:</td>\n",
       "      <td>6.39 × 10^23 kg (0.11 Earths)</td>\n",
       "    </tr>\n",
       "    <tr>\n",
       "      <th>3</th>\n",
       "      <td>Moons:</td>\n",
       "      <td>2 (Phobos &amp; Deimos)</td>\n",
       "    </tr>\n",
       "    <tr>\n",
       "      <th>4</th>\n",
       "      <td>Orbit Distance:</td>\n",
       "      <td>227,943,824 km (1.38 AU)</td>\n",
       "    </tr>\n",
       "    <tr>\n",
       "      <th>5</th>\n",
       "      <td>Orbit Period:</td>\n",
       "      <td>687 days (1.9 years)</td>\n",
       "    </tr>\n",
       "    <tr>\n",
       "      <th>6</th>\n",
       "      <td>Surface Temperature:</td>\n",
       "      <td>-87 to -5 °C</td>\n",
       "    </tr>\n",
       "    <tr>\n",
       "      <th>7</th>\n",
       "      <td>First Record:</td>\n",
       "      <td>2nd millennium BC</td>\n",
       "    </tr>\n",
       "    <tr>\n",
       "      <th>8</th>\n",
       "      <td>Recorded By:</td>\n",
       "      <td>Egyptian astronomers</td>\n",
       "    </tr>\n",
       "  </tbody>\n",
       "</table>\n",
       "</div>"
      ],
      "text/plain": [
       "            Description                          Value\n",
       "0  Equatorial Diameter:                       6,792 km\n",
       "1       Polar Diameter:                       6,752 km\n",
       "2                 Mass:  6.39 × 10^23 kg (0.11 Earths)\n",
       "3                Moons:            2 (Phobos & Deimos)\n",
       "4       Orbit Distance:       227,943,824 km (1.38 AU)\n",
       "5         Orbit Period:           687 days (1.9 years)\n",
       "6  Surface Temperature:                   -87 to -5 °C\n",
       "7         First Record:              2nd millennium BC\n",
       "8          Recorded By:           Egyptian astronomers"
      ]
     },
     "execution_count": 7,
     "metadata": {},
     "output_type": "execute_result"
    }
   ],
   "source": [
    "#HTML object\n",
    "mars_facts = browser.html\n",
    "\n",
    "#Parse HTML with Beautiful Soup\n",
    "soup_f = bs(mars_facts, 'html.parser')\n",
    "\n",
    "fact_table = soup_f.find('section', class_='sidebar widget-area clearfix')\n",
    "column1 = fact_table.find_all('td', class_='column-1')\n",
    "column2 = fact_table.find_all('td', class_='column-2')\n",
    "\n",
    "# Empty List to hold the scraped data\n",
    "descriptions = []\n",
    "values = []\n",
    "\n",
    "#  Note: row.text.strip(): Return a copy of the string with the leading and trailing characters removed\n",
    "for row in column1:\n",
    "    description = row.text.strip()\n",
    "    descriptions.append(description)\n",
    "    \n",
    "for row in column2:\n",
    "    value = row.text.strip()\n",
    "    values.append(value)\n",
    "\n",
    "# Convert scraped lists to a pandas DF \n",
    "mars_facts = pd.DataFrame({\n",
    "    \"Description\":descriptions,\n",
    "    \"Value\":values\n",
    "    })\n",
    "\n",
    "# Convert DF to html \n",
    "mars_facts_html = mars_facts.to_html(header=False, index=False)\n",
    "mars_facts"
   ]
  },
  {
   "cell_type": "markdown",
   "metadata": {},
   "source": [
    "###  Mars Hemispheres"
   ]
  },
  {
   "cell_type": "code",
   "execution_count": 8,
   "metadata": {},
   "outputs": [],
   "source": [
    "# Visit the USGS Astrogeology site \n",
    "mars_hemi_url = 'https://astrogeology.usgs.gov/search/results?q=hemisphere+enhanced&k1=target&v1=Mars'\n",
    "browser.visit(mars_hemi_url)\n",
    "time.sleep(1)"
   ]
  },
  {
   "cell_type": "code",
   "execution_count": 9,
   "metadata": {},
   "outputs": [
    {
     "name": "stdout",
     "output_type": "stream",
     "text": [
      "https://astrogeology.usgs.gov/cache/images/f5e372a36edfa389625da6d0cc25d905_cerberus_enhanced.tif_full.jpg\n",
      "https://astrogeology.usgs.gov/cache/images/3778f7b43bbbc89d6e3cfabb3613ba93_schiaparelli_enhanced.tif_full.jpg\n",
      "https://astrogeology.usgs.gov/cache/images/555e6403a6ddd7ba16ddb0e471cadcf7_syrtis_major_enhanced.tif_full.jpg\n",
      "https://astrogeology.usgs.gov/cache/images/b3c7c6c9138f57b4756be9b9c43e3a48_valles_marineris_enhanced.tif_full.jpg\n"
     ]
    }
   ],
   "source": [
    "# Find the image url and title and title\n",
    "\n",
    "# HTML object\n",
    "hemi_html = browser.html\n",
    "#Parse HTML with Beautiful Soup\n",
    "soup_h = bs(hemi_html, 'html.parser')\n",
    "\n",
    "#Retreive all items\n",
    "items = soup_h.find_all('div', class_='item')\n",
    "\n",
    "# Create an empty list \n",
    "hemi_image_urls = []\n",
    "\n",
    "# store the main url\n",
    "hemi_url = 'https://astrogeology.usgs.gov'\n",
    "mars_data = {}\n",
    "#loop through items \n",
    "for i, iv in enumerate(items):\n",
    "    #store title\n",
    "    title = iv.find('h3').text\n",
    "    \n",
    "    # store the link to full image from thumbnail page\n",
    "    hemi_url = 'https://astrogeology.usgs.gov/search/results?q=hemisphere+enhanced&k1=target&v1=Mars'\n",
    "\n",
    "    # link for the full image website\n",
    "    browser.visit(hemi_url)\n",
    "    browser.find_by_tag('h3')[i].click()\n",
    "        \n",
    "    # HTML object for individual hemisphere sites\n",
    "    image_url = browser.html    \n",
    "    \n",
    "    # Parse HTML with Beautiful Soup for each hemisphere\n",
    "    image_soup = bs(image_url, 'html.parser')\n",
    "    \n",
    "    # Full image path\n",
    "    hemi_full_path = image_soup.find('img',class_='wide-image')['src']\n",
    "\n",
    "    # retrieve full image source\n",
    "    img_url = f'https://astrogeology.usgs.gov{hemi_full_path}'\n",
    "    \n",
    "    # append title and urls to list\n",
    "    hemi_image_urls.append({\"title\": title,\"image_url\": img_url})\n",
    "    mars_data['hemisphere_images'] = hemi_image_urls\n",
    "    \n",
    "    print(img_url)"
   ]
  },
  {
   "cell_type": "code",
   "execution_count": 10,
   "metadata": {},
   "outputs": [],
   "source": [
    "browser.quit()"
   ]
  },
  {
   "cell_type": "code",
   "execution_count": null,
   "metadata": {},
   "outputs": [],
   "source": []
  },
  {
   "cell_type": "code",
   "execution_count": null,
   "metadata": {},
   "outputs": [],
   "source": []
  }
 ],
 "metadata": {
  "kernelspec": {
   "display_name": "Python 3",
   "language": "python",
   "name": "python3"
  },
  "language_info": {
   "codemirror_mode": {
    "name": "ipython",
    "version": 3
   },
   "file_extension": ".py",
   "mimetype": "text/x-python",
   "name": "python",
   "nbconvert_exporter": "python",
   "pygments_lexer": "ipython3",
   "version": "3.8.5"
  }
 },
 "nbformat": 4,
 "nbformat_minor": 4
}
